{
 "cells": [
  {
   "cell_type": "code",
   "execution_count": null,
   "id": "9f63cc43",
   "metadata": {},
   "outputs": [],
   "source": [
    "#  Ensure that all necessary Python libraries (listed below) are downloaded\n",
    "\n",
    "import numpy as np\n",
    "import pandas as pd\n",
    "import os\n",
    "import datetime\n",
    "import xml.etree.ElementTree as ET\n",
    "import holidays\n",
    "import tkinter.filedialog\n",
    "import astral\n",
    "from astral import sun\n",
    "from astral.geocoder import database"
   ]
  },
  {
   "cell_type": "code",
   "execution_count": null,
   "id": "ddf37991",
   "metadata": {},
   "outputs": [],
   "source": [
    "root = tkinter.Tk()\n",
    "request_file = tkinter.filedialog.askopenfilename(initialdir=os.getcwd(),filetypes=[('XML Files', '*.xml')])\n",
    "root.destroy()\n",
    "xml_file_name = request_file.split('/')[-1]\n",
    "xml_file_name"
   ]
  },
  {
   "cell_type": "code",
   "execution_count": null,
   "id": "a8e0cab9",
   "metadata": {},
   "outputs": [],
   "source": [
    "annual_tides = ET.parse(xml_file_name).getroot()"
   ]
  },
  {
   "cell_type": "code",
   "execution_count": null,
   "id": "4494a629",
   "metadata": {},
   "outputs": [],
   "source": [
    "station = annual_tides[4].text\n",
    "station"
   ]
  },
  {
   "cell_type": "code",
   "execution_count": null,
   "id": "fff25880",
   "metadata": {},
   "outputs": [],
   "source": [
    "annual_tides[5].text"
   ]
  },
  {
   "cell_type": "code",
   "execution_count": null,
   "id": "d2e8af6b",
   "metadata": {},
   "outputs": [],
   "source": [
    "tides_year = annual_tides[8].text[:4]\n",
    "tides_year"
   ]
  },
  {
   "cell_type": "code",
   "execution_count": null,
   "id": "e4d53f2a",
   "metadata": {},
   "outputs": [],
   "source": [
    "# look up latitude and longitude using \"https://www.ngs.noaa.gov/NCAT\" this will only effect the sunrise and sunset variables\n",
    "\n",
    "loc = astral.LocationInfo(name=station, \n",
    "                    region='USA', \n",
    "                    timezone='US/Pacific', \n",
    "                    latitude=36.6013000166, \n",
    "                    longitude=-121.8824529648)"
   ]
  },
  {
   "cell_type": "code",
   "execution_count": null,
   "id": "b490857a",
   "metadata": {},
   "outputs": [],
   "source": [
    "col_names = list()\n",
    "for n in range(0,6):\n",
    "    col_names.append(annual_tides[-1][0][n].tag)\n",
    "col_names.remove('date')\n",
    "col_names.remove('time')\n",
    "col_names.insert(0,'date_time')\n",
    "col_names"
   ]
  },
  {
   "cell_type": "code",
   "execution_count": null,
   "id": "66811c56",
   "metadata": {},
   "outputs": [],
   "source": [
    "f = annual_tides.find(annual_tides[-1].tag)\n",
    "df_tides = pd.DataFrame(index=range(0,len(list(f.iter(annual_tides[-1][0].tag)))),columns=col_names)\n",
    "df_tides"
   ]
  },
  {
   "cell_type": "code",
   "execution_count": null,
   "id": "1aa705e9",
   "metadata": {},
   "outputs": [],
   "source": [
    "for i in df_tides.index:\n",
    "    df_tides['date_time'].iloc[i]=datetime.datetime.strptime(annual_tides[-1][i][0].text+annual_tides[-1][i][2].text,'%Y/%m/%d%I:%M %p')\n",
    "    df_tides[annual_tides[-1][0][1].tag].iloc[i]=annual_tides[-1][i][1].text\n",
    "    df_tides[annual_tides[-1][0][3].tag].iloc[i]=float(annual_tides[-1][i][3].text)\n",
    "    df_tides[annual_tides[-1][0][4].tag].iloc[i]=float(annual_tides[-1][i][4].text)\n",
    "    df_tides[annual_tides[-1][0][5].tag].iloc[i]=annual_tides[-1][i][5].text\n",
    "df_tides"
   ]
  },
  {
   "cell_type": "code",
   "execution_count": null,
   "id": "a763da71",
   "metadata": {},
   "outputs": [],
   "source": [
    "df_copy = df_tides.copy()\n",
    "for i in df_tides.index:\n",
    "    neg_bool = df_tides['pred_in_cm'][i]<=0\n",
    "    off_day_bool = df_tides['day'][i] == 'Sat' or df_tides['day'][i] =='Sun' or df_tides['date_time'][i].date() in holidays.US(years=int(tides_year))\n",
    "    sr = astral.sun.sun(loc.observer,tzinfo='US/Pacific',date=df_tides['date_time'][i].date())['sunrise']\n",
    "    ss = astral.sun.sun(loc.observer,tzinfo='US/Pacific',date=df_tides['date_time'][i].date())['sunset']\n",
    "    after_work_bool = datetime.time(16,0,0,0) <= df_tides['date_time'][i].time() < ss.time()\n",
    "    \n",
    "    # Use either of these daylight_bool variables. The first gives sunrise to sunset, the second gives 15 mins before sunrise to 10 mins before sunset\n",
    "    \n",
    "    #daylight_bool = sr.time() <= df_tides['date_time'][i].time() < ss.time()\n",
    "    daylight_bool = (sr-datetime.timedelta(minutes=15)).time()<=df_tides['date_time'][i].time()<(ss-datetime.timedelta(minutes=10)).time()\n",
    "    \n",
    "    if (not neg_bool or not daylight_bool) or (not off_day_bool and not after_work_bool):\n",
    "        df_copy.drop(index=i,inplace=True)\n",
    "    else:\n",
    "        pass\n",
    "df_copy"
   ]
  },
  {
   "cell_type": "code",
   "execution_count": null,
   "id": "d96ca002",
   "metadata": {},
   "outputs": [],
   "source": [
    "df_goog_cal = pd.DataFrame(columns=['Subject','Start Date','Start Time','End Date','End Time','All Day Event','Private','Description','Location'],index=df_copy.index)\n",
    "for i in df_goog_cal.index:\n",
    "    df_goog_cal['Subject'].loc[i] = 'Low Tide'\n",
    "    df_goog_cal['Start Date'].loc[i] = df_copy['date_time'][i].date()\n",
    "    df_goog_cal['Start Time'].loc[i] = df_copy['date_time'][i].time()\n",
    "    df_goog_cal['End Date'].loc[i] = df_copy['date_time'][i].date()\n",
    "    df_goog_cal['End Time'].loc[i] = df_copy['date_time'][i].time()\n",
    "    df_goog_cal['All Day Event'].loc[i] = False\n",
    "    df_goog_cal['Private'].loc[i] = False\n",
    "    low_water_mark = df_copy['pred_in_ft'][i]\n",
    "    df_goog_cal['Description'].loc[i] = f'Low water mark at {low_water_mark} ft'\n",
    "    df_goog_cal['Location'].loc[i] = f'{annual_tides[4].text}, {annual_tides[5].text}'\n",
    "df_goog_cal"
   ]
  },
  {
   "cell_type": "code",
   "execution_count": null,
   "id": "49125ec0",
   "metadata": {},
   "outputs": [],
   "source": [
    "print(f'There are a total of {len(df_goog_cal)} convenient low tide events for the year {tides_year}')"
   ]
  },
  {
   "cell_type": "code",
   "execution_count": null,
   "id": "e2347b0a",
   "metadata": {},
   "outputs": [],
   "source": [
    "df_goog_cal.to_csv(f'{station}_lowest_tides{tides_year}.csv')"
   ]
  }
 ],
 "metadata": {
  "kernelspec": {
   "display_name": "Python 3",
   "language": "python",
   "name": "python3"
  },
  "language_info": {
   "codemirror_mode": {
    "name": "ipython",
    "version": 3
   },
   "file_extension": ".py",
   "mimetype": "text/x-python",
   "name": "python",
   "nbconvert_exporter": "python",
   "pygments_lexer": "ipython3",
   "version": "3.8.11"
  }
 },
 "nbformat": 4,
 "nbformat_minor": 5
}
