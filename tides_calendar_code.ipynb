{
 "cells": [
  {
   "cell_type": "markdown",
   "id": "aecfea96-f5f5-44e6-a28f-b333368b695b",
   "metadata": {},
   "source": [
    "Ensure that all necessary Python libraries (listed below) are downloaded"
   ]
  },
  {
   "cell_type": "code",
   "execution_count": null,
   "id": "2884bdaf-5d53-4c9c-8353-bae6d1a86e59",
   "metadata": {},
   "outputs": [],
   "source": [
    "import numpy as np\n",
    "import pandas as pd\n",
    "import os\n",
    "import datetime\n",
    "import xml.etree.ElementTree as ET\n",
    "import holidays\n",
    "import tkinter.filedialog\n",
    "import astral\n",
    "from astral import sun"
   ]
  },
  {
   "cell_type": "code",
   "execution_count": null,
   "id": "9ad9f16c-1ab1-4ea7-8e5d-874ab76d4160",
   "metadata": {},
   "outputs": [],
   "source": [
    "root = tkinter.Tk()\n",
    "request_file = tkinter.filedialog.askopenfilename(initialdir=os.getcwd(),filetypes=[('XML Files', '*.xml')])\n",
    "root.destroy()\n",
    "xml_file_name = request_file.split('/')[-1]\n",
    "xml_file_name"
   ]
  },
  {
   "cell_type": "code",
   "execution_count": null,
   "id": "cfb63378-44b0-4963-9158-2ddf23528dc8",
   "metadata": {},
   "outputs": [],
   "source": [
    "annual_tides = ET.parse(xml_file_name).getroot()"
   ]
  },
  {
   "cell_type": "code",
   "execution_count": null,
   "id": "dbba45ef-593f-4dca-a3fc-fa17806e29a9",
   "metadata": {},
   "outputs": [],
   "source": [
    "station = annual_tides[4].text\n",
    "station"
   ]
  },
  {
   "cell_type": "code",
   "execution_count": null,
   "id": "bac836dc-e04d-4bf0-98c0-4413bbd47c20",
   "metadata": {},
   "outputs": [],
   "source": [
    "annual_tides[5].text"
   ]
  },
  {
   "cell_type": "code",
   "execution_count": null,
   "id": "d46e1a38-c3f8-40e9-b4a3-109bd48d3bb3",
   "metadata": {},
   "outputs": [],
   "source": [
    "tides_year = annual_tides[8].text[:4]\n",
    "tides_year"
   ]
  },
  {
   "cell_type": "code",
   "execution_count": null,
   "id": "1fc649e8-fd11-4747-b9cc-df160b777b99",
   "metadata": {},
   "outputs": [],
   "source": [
    "loc = astral.LocationInfo(name=annual_tides[4].text,region=annual_tides[5].text)"
   ]
  },
  {
   "cell_type": "code",
   "execution_count": null,
   "id": "ba799c62-5b4d-41dd-a761-fab0713b79b0",
   "metadata": {},
   "outputs": [],
   "source": [
    "col_names = list()\n",
    "for n in range(0,6):\n",
    "    col_names.append(annual_tides[-1][0][n].tag)\n",
    "col_names.remove('date')\n",
    "col_names.remove('time')\n",
    "col_names.insert(0,'date_time')\n",
    "col_names"
   ]
  },
  {
   "cell_type": "code",
   "execution_count": null,
   "id": "ce532d7f-8986-4c7d-9c1b-53bd91f6ebd6",
   "metadata": {},
   "outputs": [],
   "source": [
    "f = annual_tides.find(annual_tides[-1].tag)\n",
    "df_tides = pd.DataFrame(index=range(0,len(list(f.iter(annual_tides[-1][0].tag)))),columns=col_names)\n",
    "df_tides"
   ]
  },
  {
   "cell_type": "code",
   "execution_count": null,
   "id": "48622bba-29af-4243-98ce-be62ea642c39",
   "metadata": {},
   "outputs": [],
   "source": [
    "for i in df_tides.index:\n",
    "    df_tides['date_time'].iloc[i]=datetime.datetime.strptime(annual_tides[-1][i][0].text+annual_tides[-1][i][2].text,'%Y/%m/%d%I:%M %p')\n",
    "    df_tides[annual_tides[-1][0][1].tag].iloc[i]=annual_tides[-1][i][1].text\n",
    "    df_tides[annual_tides[-1][0][3].tag].iloc[i]=float(annual_tides[-1][i][3].text)\n",
    "    df_tides[annual_tides[-1][0][4].tag].iloc[i]=float(annual_tides[-1][i][4].text)\n",
    "    df_tides[annual_tides[-1][0][5].tag].iloc[i]=annual_tides[-1][i][5].text\n",
    "df_tides"
   ]
  },
  {
   "cell_type": "code",
   "execution_count": null,
   "id": "dc604411-7e53-476e-b635-67de54f357b0",
   "metadata": {},
   "outputs": [],
   "source": [
    "df_copy = df_tides.copy()\n",
    "for i in df_copy.index:\n",
    "    if not df_copy['highlow'][i] == 'L':\n",
    "        df_copy.drop(index=i,inplace=True)\n",
    "    else:\n",
    "        if df_copy['day'][i] == 'Sat' or df_copy['day'][i] =='Sun' or df_copy['date_time'][i].date() in holidays.US(years=df_copy['date_time'][i].date().year):\n",
    "            if not astral.sun.sunrise(loc.observer,date=df_tides['date_time'][i].date()).time() <= df_copy['date_time'][i].time() < astral.sun.sunset(loc.observer,date=df_tides['date_time'][i].date()).time():\n",
    "                df_copy.drop(index=i,inplace=True)\n",
    "            else: pass\n",
    "        else:\n",
    "            if not datetime.time(16,0,0,0) <= df_copy['date_time'][i].time() < astral.sun.sunset(loc.observer,date=df_tides['date_time'][i].date()).time():\n",
    "                df_copy.drop(index=i,inplace=True)\n",
    "            else: pass\n",
    "for i in df_copy.index:\n",
    "    if df_copy['pred_in_cm'][i]>=0:\n",
    "        df_copy.drop(index=i,inplace=True)\n",
    "    else: pass\n",
    "df_copy"
   ]
  },
  {
   "cell_type": "code",
   "execution_count": null,
   "id": "c1d8541f-fa5e-46a6-9ac3-0345a4f0e026",
   "metadata": {},
   "outputs": [],
   "source": [
    "df_goog_cal = pd.DataFrame(columns=['Subject','Start Date','Start Time','End Date','End Time','All Day Event','Private','Description','Location'],index=df_copy.index)\n",
    "for i in df_goog_cal.index:\n",
    "    df_goog_cal['Subject'].loc[i] = 'Low Tide'\n",
    "    df_goog_cal['Start Date'].loc[i] = df_copy['date_time'][i].date()\n",
    "    df_goog_cal['Start Time'].loc[i] = df_copy['date_time'][i].time()\n",
    "    df_goog_cal['End Date'].loc[i] = df_copy['date_time'][i].date()\n",
    "    df_goog_cal['End Time'].loc[i] = df_copy['date_time'][i].time()\n",
    "    df_goog_cal['All Day Event'].loc[i] = False\n",
    "    df_goog_cal['Private'].loc[i] = False\n",
    "    low_water_mark = df_copy['pred_in_ft'][i]\n",
    "    df_goog_cal['Description'].loc[i] = f'Low water mark at {low_water_mark} ft'\n",
    "    df_goog_cal['Location'].loc[i] = f'{annual_tides[4].text}, {annual_tides[5].text}'\n",
    "df_goog_cal"
   ]
  },
  {
   "cell_type": "code",
   "execution_count": null,
   "id": "e63ab792-f8ab-482d-b3a2-89094dd43ecc",
   "metadata": {},
   "outputs": [],
   "source": [
    "df_goog_cal.to_csv(f'{station}_lowest_tides{tides_year}.csv')"
   ]
  },
  {
   "cell_type": "code",
   "execution_count": null,
   "id": "f6da0f2b-a7a7-49b4-b08c-eeb8cf0b33b4",
   "metadata": {},
   "outputs": [],
   "source": []
  }
 ],
 "metadata": {
  "kernelspec": {
   "display_name": "Python 3",
   "language": "python",
   "name": "python3"
  },
  "language_info": {
   "codemirror_mode": {
    "name": "ipython",
    "version": 3
   },
   "file_extension": ".py",
   "mimetype": "text/x-python",
   "name": "python",
   "nbconvert_exporter": "python",
   "pygments_lexer": "ipython3",
   "version": "3.8.11"
  }
 },
 "nbformat": 4,
 "nbformat_minor": 5
}
